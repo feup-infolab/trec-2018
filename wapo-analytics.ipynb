{
 "cells": [
  {
   "cell_type": "code",
   "execution_count": 15,
   "metadata": {},
   "outputs": [],
   "source": [
    "source('wapo_stats.R', echo=F)\n",
    "options(repr.plot.width=4, repr.plot.height=3)"
   ]
  },
  {
   "cell_type": "markdown",
   "metadata": {},
   "source": [
    "# WashingtonPost Analytics"
   ]
  },
  {
   "cell_type": "markdown",
   "metadata": {},
   "source": [
    "## Introduction"
   ]
  },
  {
   "cell_type": "markdown",
   "metadata": {},
   "source": [
    "This is a documentation about the analysis of TREC's WashingtonPost corpus.\n",
    "\n",
    "The TREC Washington Post Corpus contains 608,180 news articles and blog posts from January 2012 through August 2017. The articles are stored in JSON format and include title, byline, date of publication, kicker (a section header), article text broken into paragraphs, links to embedded images and multimedia. Each document is identified by JSON field \"id\".\n",
    "\n",
    "The main content of the document is distributed in paragraphs, inside \"contents\" JSON array, only the objects with subtype are \"paragraph\". There may be duplicated documents (same id, or same text)."
   ]
  },
  {
   "cell_type": "markdown",
   "metadata": {},
   "source": [
    "## Text distribuition analysis"
   ]
  },
  {
   "cell_type": "code",
   "execution_count": 2,
   "metadata": {},
   "outputs": [],
   "source": [
    "doc_length <- read_csv(doc_length_path = \"~/gitprojects/wapo-analytics/output/wapo-doc_length-all.csv.gz\")"
   ]
  },
  {
   "cell_type": "markdown",
   "metadata": {},
   "source": [
    "Next table shows the characters length of complete text (all paragraphs) and the first three paragraphs."
   ]
  },
  {
   "cell_type": "code",
   "execution_count": 3,
   "metadata": {},
   "outputs": [
    {
     "data": {
      "text/html": [
       "<table>\n",
       "<thead><tr><th scope=col>doc_id</th><th scope=col>doc_len</th><th scope=col>par_len</th></tr></thead>\n",
       "<tbody>\n",
       "\t<tr><td>b2e89334-33f9-11e1-825f-dabc29fd7071</td><td> 4522                               </td><td> 658                                </td></tr>\n",
       "\t<tr><td>749ec5b2-32f5-11e1-825f-dabc29fd7071</td><td> 3883                               </td><td> 632                                </td></tr>\n",
       "\t<tr><td>69654742-33d7-11e1-825f-dabc29fd7071</td><td> 9560                               </td><td> 999                                </td></tr>\n",
       "\t<tr><td>d5966ad2-33f9-11e1-825f-dabc29fd7071</td><td> 4886                               </td><td> 862                                </td></tr>\n",
       "\t<tr><td>f2c10c06-2c0c-11e1-9952-55d90a4e2d6d</td><td> 7243                               </td><td> 651                                </td></tr>\n",
       "\t<tr><td>4db820a0-3251-11e1-8c61-c365ccf404c5</td><td> 8929                               </td><td> 661                                </td></tr>\n",
       "\t<tr><td>2ee2b1ca-33d9-11e1-a274-61fcdeecc5f5</td><td> 7359                               </td><td> 756                                </td></tr>\n",
       "\t<tr><td>a9552634-2c06-11e1-9952-55d90a4e2d6d</td><td> 9504                               </td><td> 764                                </td></tr>\n",
       "\t<tr><td>7cecbc12-33de-11e1-a274-61fcdeecc5f5</td><td> 8638                               </td><td>1052                                </td></tr>\n",
       "\t<tr><td>153127ee-341e-11e1-825f-dabc29fd7071</td><td> 5053                               </td><td> 740                                </td></tr>\n",
       "\t<tr><td>8d0035ac-340b-11e1-a274-61fcdeecc5f5</td><td> 1057                               </td><td> 588                                </td></tr>\n",
       "\t<tr><td>a0fb5cda-340b-11e1-825f-dabc29fd7071</td><td> 1431                               </td><td> 302                                </td></tr>\n",
       "\t<tr><td>69f1a5e2-342d-11e1-825f-dabc29fd7071</td><td> 5093                               </td><td> 998                                </td></tr>\n",
       "\t<tr><td>6033cbfe-21e8-11e1-a34e-71d4bf6b8d0a</td><td>32552                               </td><td> 907                                </td></tr>\n",
       "\t<tr><td>dbe17e88-331b-11e1-825f-dabc29fd7071</td><td> 4062                               </td><td> 779                                </td></tr>\n",
       "\t<tr><td>92c0a656-3448-11e1-825f-dabc29fd7071</td><td> 1668                               </td><td> 657                                </td></tr>\n",
       "\t<tr><td>2ebf4e80-346d-11e1-88f9-9084fc48c348</td><td> 3748                               </td><td> 843                                </td></tr>\n",
       "\t<tr><td>95195e84-32fe-11e1-825f-dabc29fd7071</td><td>10572                               </td><td>1096                                </td></tr>\n",
       "\t<tr><td>b0172374-349d-11e1-88f9-9084fc48c348</td><td> 5344                               </td><td> 543                                </td></tr>\n",
       "\t<tr><td>fdce25a8-30c0-11e1-b034-d347de95dcfe</td><td> 6791                               </td><td> 706                                </td></tr>\n",
       "\t<tr><td>4f255be8-30ac-11e1-8c61-c365ccf404c5</td><td> 4826                               </td><td> 674                                </td></tr>\n",
       "\t<tr><td>cc64bb44-3336-11e1-a274-61fcdeecc5f5</td><td> 7503                               </td><td> 784                                </td></tr>\n",
       "\t<tr><td>81c54a46-326d-11e1-825f-dabc29fd7071</td><td> 3727                               </td><td>1125                                </td></tr>\n",
       "\t<tr><td>a2a3858a-326c-11e1-825f-dabc29fd7071</td><td> 2519                               </td><td> 729                                </td></tr>\n",
       "\t<tr><td>0e1df3bc-326e-11e1-825f-dabc29fd7071</td><td> 2398                               </td><td> 436                                </td></tr>\n",
       "\t<tr><td>c2b2e87c-3170-11e1-b034-d347de95dcfe</td><td> 5709                               </td><td> 483                                </td></tr>\n",
       "\t<tr><td>92f648ce-31b9-11e1-a274-61fcdeecc5f5</td><td> 2756                               </td><td> 806                                </td></tr>\n",
       "\t<tr><td>0f507be2-30de-11e1-a274-61fcdeecc5f5</td><td> 2683                               </td><td> 610                                </td></tr>\n",
       "\t<tr><td>ef241d24-3218-11e1-b692-796029298414</td><td> 4867                               </td><td> 730                                </td></tr>\n",
       "\t<tr><td>c2e30376-3162-11e1-b034-d347de95dcfe</td><td> 4440                               </td><td> 806                                </td></tr>\n",
       "\t<tr><td>⋮</td><td>⋮</td><td>⋮</td></tr>\n",
       "\t<tr><td>feef5630be9ccf49e59221c41a648e74    </td><td> 2110                               </td><td> 596                                </td></tr>\n",
       "\t<tr><td>fef0f232a9bd94bdb96bac48c7705503    </td><td> 7243                               </td><td>1044                                </td></tr>\n",
       "\t<tr><td>fefb8280-737f-11e5-9cbb-790369643cf9</td><td> 6350                               </td><td>1138                                </td></tr>\n",
       "\t<tr><td>ff2ba942bf56c2286e12cdef29534148    </td><td> 2603                               </td><td> 948                                </td></tr>\n",
       "\t<tr><td>ff33487506aa202df45122962b92410b    </td><td> 3175                               </td><td> 588                                </td></tr>\n",
       "\t<tr><td>ff49e018-7ded-11e7-83c7-5bd5460f0d7e</td><td> 8452                               </td><td> 769                                </td></tr>\n",
       "\t<tr><td>ff4d23354d895dc7145e5ed20ca9bbd3    </td><td> 5994                               </td><td> 666                                </td></tr>\n",
       "\t<tr><td>ff52133a9da81efa2c57c71a1ca98a71    </td><td> 2978                               </td><td>1061                                </td></tr>\n",
       "\t<tr><td>ff529798b35e37fdd720e6d072bc475f    </td><td> 5898                               </td><td>1408                                </td></tr>\n",
       "\t<tr><td>ff53ce53d8fa00468f1342fdaf671a50    </td><td> 5914                               </td><td> 709                                </td></tr>\n",
       "\t<tr><td>ff5667fa1158c13305738a0f91173bb5    </td><td> 5239                               </td><td> 301                                </td></tr>\n",
       "\t<tr><td>ff579e40-9543-11e5-b5e4-279b4501e8a6</td><td> 6119                               </td><td> 836                                </td></tr>\n",
       "\t<tr><td>ff5bb01f2a8b6b6a9726156dfe87a392    </td><td> 5441                               </td><td> 261                                </td></tr>\n",
       "\t<tr><td>ff5c54f50c42761af58e8453def78b3a    </td><td>  932                               </td><td> 932                                </td></tr>\n",
       "\t<tr><td>ff60aedda957d6300124adc86da93fc4    </td><td> 4768                               </td><td> 728                                </td></tr>\n",
       "\t<tr><td>ff678d695f6fa6f68e48114cc5869a13    </td><td> 2779                               </td><td> 183                                </td></tr>\n",
       "\t<tr><td>ff78a806006eb996ab4a00874019ccad    </td><td>11623                               </td><td> 665                                </td></tr>\n",
       "\t<tr><td>ff80e3d3696b5c761715f00d61640d2e    </td><td> 4052                               </td><td> 798                                </td></tr>\n",
       "\t<tr><td>ff89d1d83fccc49e7a20df288f6a200a    </td><td> 2048                               </td><td>1087                                </td></tr>\n",
       "\t<tr><td>ff8d054c119c7b7a3227eff535701c01    </td><td>  990                               </td><td> 780                                </td></tr>\n",
       "\t<tr><td>ff969bd4-d4f0-11e1-b2d5-2419d227d8b0</td><td> 5539                               </td><td> 392                                </td></tr>\n",
       "\t<tr><td>ff99ffb6f405d0740f596c09febcf2f8    </td><td> 2140                               </td><td> 620                                </td></tr>\n",
       "\t<tr><td>ff9b5f2a34e97bdfc931def1284c665c    </td><td> 5359                               </td><td>1416                                </td></tr>\n",
       "\t<tr><td>ffb2a40f294e55865d5bc616f0cd28f9    </td><td> 5999                               </td><td> 660                                </td></tr>\n",
       "\t<tr><td>ffbd2e4d86320d07a6146bd0a1cd78a3    </td><td> 6785                               </td><td>1014                                </td></tr>\n",
       "\t<tr><td>ffd6187f96de91f819a5ebac49aebff2    </td><td> 3462                               </td><td> 679                                </td></tr>\n",
       "\t<tr><td>ffd6b3d07764da97d7a3b287035ff5f2    </td><td> 1889                               </td><td> 879                                </td></tr>\n",
       "\t<tr><td>ffe838de48dfbbbe83fb137643e73fd2    </td><td> 5870                               </td><td> 540                                </td></tr>\n",
       "\t<tr><td>fff52dc5482fd1917a3dcce63ecc8a33    </td><td>   18                               </td><td>  18                                </td></tr>\n",
       "\t<tr><td>fffbc452-b422-11e2-9a98-4be1688d7d84</td><td> 3710                               </td><td> 769                                </td></tr>\n",
       "</tbody>\n",
       "</table>\n"
      ],
      "text/latex": [
       "\\begin{tabular}{r|lll}\n",
       " doc\\_id & doc\\_len & par\\_len\\\\\n",
       "\\hline\n",
       "\t b2e89334-33f9-11e1-825f-dabc29fd7071 &  4522                                &  658                                \\\\\n",
       "\t 749ec5b2-32f5-11e1-825f-dabc29fd7071 &  3883                                &  632                                \\\\\n",
       "\t 69654742-33d7-11e1-825f-dabc29fd7071 &  9560                                &  999                                \\\\\n",
       "\t d5966ad2-33f9-11e1-825f-dabc29fd7071 &  4886                                &  862                                \\\\\n",
       "\t f2c10c06-2c0c-11e1-9952-55d90a4e2d6d &  7243                                &  651                                \\\\\n",
       "\t 4db820a0-3251-11e1-8c61-c365ccf404c5 &  8929                                &  661                                \\\\\n",
       "\t 2ee2b1ca-33d9-11e1-a274-61fcdeecc5f5 &  7359                                &  756                                \\\\\n",
       "\t a9552634-2c06-11e1-9952-55d90a4e2d6d &  9504                                &  764                                \\\\\n",
       "\t 7cecbc12-33de-11e1-a274-61fcdeecc5f5 &  8638                                & 1052                                \\\\\n",
       "\t 153127ee-341e-11e1-825f-dabc29fd7071 &  5053                                &  740                                \\\\\n",
       "\t 8d0035ac-340b-11e1-a274-61fcdeecc5f5 &  1057                                &  588                                \\\\\n",
       "\t a0fb5cda-340b-11e1-825f-dabc29fd7071 &  1431                                &  302                                \\\\\n",
       "\t 69f1a5e2-342d-11e1-825f-dabc29fd7071 &  5093                                &  998                                \\\\\n",
       "\t 6033cbfe-21e8-11e1-a34e-71d4bf6b8d0a & 32552                                &  907                                \\\\\n",
       "\t dbe17e88-331b-11e1-825f-dabc29fd7071 &  4062                                &  779                                \\\\\n",
       "\t 92c0a656-3448-11e1-825f-dabc29fd7071 &  1668                                &  657                                \\\\\n",
       "\t 2ebf4e80-346d-11e1-88f9-9084fc48c348 &  3748                                &  843                                \\\\\n",
       "\t 95195e84-32fe-11e1-825f-dabc29fd7071 & 10572                                & 1096                                \\\\\n",
       "\t b0172374-349d-11e1-88f9-9084fc48c348 &  5344                                &  543                                \\\\\n",
       "\t fdce25a8-30c0-11e1-b034-d347de95dcfe &  6791                                &  706                                \\\\\n",
       "\t 4f255be8-30ac-11e1-8c61-c365ccf404c5 &  4826                                &  674                                \\\\\n",
       "\t cc64bb44-3336-11e1-a274-61fcdeecc5f5 &  7503                                &  784                                \\\\\n",
       "\t 81c54a46-326d-11e1-825f-dabc29fd7071 &  3727                                & 1125                                \\\\\n",
       "\t a2a3858a-326c-11e1-825f-dabc29fd7071 &  2519                                &  729                                \\\\\n",
       "\t 0e1df3bc-326e-11e1-825f-dabc29fd7071 &  2398                                &  436                                \\\\\n",
       "\t c2b2e87c-3170-11e1-b034-d347de95dcfe &  5709                                &  483                                \\\\\n",
       "\t 92f648ce-31b9-11e1-a274-61fcdeecc5f5 &  2756                                &  806                                \\\\\n",
       "\t 0f507be2-30de-11e1-a274-61fcdeecc5f5 &  2683                                &  610                                \\\\\n",
       "\t ef241d24-3218-11e1-b692-796029298414 &  4867                                &  730                                \\\\\n",
       "\t c2e30376-3162-11e1-b034-d347de95dcfe &  4440                                &  806                                \\\\\n",
       "\t ⋮ & ⋮ & ⋮\\\\\n",
       "\t feef5630be9ccf49e59221c41a648e74     &  2110                                &  596                                \\\\\n",
       "\t fef0f232a9bd94bdb96bac48c7705503     &  7243                                & 1044                                \\\\\n",
       "\t fefb8280-737f-11e5-9cbb-790369643cf9 &  6350                                & 1138                                \\\\\n",
       "\t ff2ba942bf56c2286e12cdef29534148     &  2603                                &  948                                \\\\\n",
       "\t ff33487506aa202df45122962b92410b     &  3175                                &  588                                \\\\\n",
       "\t ff49e018-7ded-11e7-83c7-5bd5460f0d7e &  8452                                &  769                                \\\\\n",
       "\t ff4d23354d895dc7145e5ed20ca9bbd3     &  5994                                &  666                                \\\\\n",
       "\t ff52133a9da81efa2c57c71a1ca98a71     &  2978                                & 1061                                \\\\\n",
       "\t ff529798b35e37fdd720e6d072bc475f     &  5898                                & 1408                                \\\\\n",
       "\t ff53ce53d8fa00468f1342fdaf671a50     &  5914                                &  709                                \\\\\n",
       "\t ff5667fa1158c13305738a0f91173bb5     &  5239                                &  301                                \\\\\n",
       "\t ff579e40-9543-11e5-b5e4-279b4501e8a6 &  6119                                &  836                                \\\\\n",
       "\t ff5bb01f2a8b6b6a9726156dfe87a392     &  5441                                &  261                                \\\\\n",
       "\t ff5c54f50c42761af58e8453def78b3a     &   932                                &  932                                \\\\\n",
       "\t ff60aedda957d6300124adc86da93fc4     &  4768                                &  728                                \\\\\n",
       "\t ff678d695f6fa6f68e48114cc5869a13     &  2779                                &  183                                \\\\\n",
       "\t ff78a806006eb996ab4a00874019ccad     & 11623                                &  665                                \\\\\n",
       "\t ff80e3d3696b5c761715f00d61640d2e     &  4052                                &  798                                \\\\\n",
       "\t ff89d1d83fccc49e7a20df288f6a200a     &  2048                                & 1087                                \\\\\n",
       "\t ff8d054c119c7b7a3227eff535701c01     &   990                                &  780                                \\\\\n",
       "\t ff969bd4-d4f0-11e1-b2d5-2419d227d8b0 &  5539                                &  392                                \\\\\n",
       "\t ff99ffb6f405d0740f596c09febcf2f8     &  2140                                &  620                                \\\\\n",
       "\t ff9b5f2a34e97bdfc931def1284c665c     &  5359                                & 1416                                \\\\\n",
       "\t ffb2a40f294e55865d5bc616f0cd28f9     &  5999                                &  660                                \\\\\n",
       "\t ffbd2e4d86320d07a6146bd0a1cd78a3     &  6785                                & 1014                                \\\\\n",
       "\t ffd6187f96de91f819a5ebac49aebff2     &  3462                                &  679                                \\\\\n",
       "\t ffd6b3d07764da97d7a3b287035ff5f2     &  1889                                &  879                                \\\\\n",
       "\t ffe838de48dfbbbe83fb137643e73fd2     &  5870                                &  540                                \\\\\n",
       "\t fff52dc5482fd1917a3dcce63ecc8a33     &    18                                &   18                                \\\\\n",
       "\t fffbc452-b422-11e2-9a98-4be1688d7d84 &  3710                                &  769                                \\\\\n",
       "\\end{tabular}\n"
      ],
      "text/markdown": [
       "\n",
       "doc_id | doc_len | par_len | \n",
       "|---|---|---|---|---|---|---|---|---|---|---|---|---|---|---|---|---|---|---|---|---|---|---|---|---|---|---|---|---|---|---|---|---|---|---|---|---|---|---|---|---|---|---|---|---|---|---|---|---|---|---|---|---|---|---|---|---|---|---|---|---|\n",
       "| b2e89334-33f9-11e1-825f-dabc29fd7071 |  4522                                |  658                                 | \n",
       "| 749ec5b2-32f5-11e1-825f-dabc29fd7071 |  3883                                |  632                                 | \n",
       "| 69654742-33d7-11e1-825f-dabc29fd7071 |  9560                                |  999                                 | \n",
       "| d5966ad2-33f9-11e1-825f-dabc29fd7071 |  4886                                |  862                                 | \n",
       "| f2c10c06-2c0c-11e1-9952-55d90a4e2d6d |  7243                                |  651                                 | \n",
       "| 4db820a0-3251-11e1-8c61-c365ccf404c5 |  8929                                |  661                                 | \n",
       "| 2ee2b1ca-33d9-11e1-a274-61fcdeecc5f5 |  7359                                |  756                                 | \n",
       "| a9552634-2c06-11e1-9952-55d90a4e2d6d |  9504                                |  764                                 | \n",
       "| 7cecbc12-33de-11e1-a274-61fcdeecc5f5 |  8638                                | 1052                                 | \n",
       "| 153127ee-341e-11e1-825f-dabc29fd7071 |  5053                                |  740                                 | \n",
       "| 8d0035ac-340b-11e1-a274-61fcdeecc5f5 |  1057                                |  588                                 | \n",
       "| a0fb5cda-340b-11e1-825f-dabc29fd7071 |  1431                                |  302                                 | \n",
       "| 69f1a5e2-342d-11e1-825f-dabc29fd7071 |  5093                                |  998                                 | \n",
       "| 6033cbfe-21e8-11e1-a34e-71d4bf6b8d0a | 32552                                |  907                                 | \n",
       "| dbe17e88-331b-11e1-825f-dabc29fd7071 |  4062                                |  779                                 | \n",
       "| 92c0a656-3448-11e1-825f-dabc29fd7071 |  1668                                |  657                                 | \n",
       "| 2ebf4e80-346d-11e1-88f9-9084fc48c348 |  3748                                |  843                                 | \n",
       "| 95195e84-32fe-11e1-825f-dabc29fd7071 | 10572                                | 1096                                 | \n",
       "| b0172374-349d-11e1-88f9-9084fc48c348 |  5344                                |  543                                 | \n",
       "| fdce25a8-30c0-11e1-b034-d347de95dcfe |  6791                                |  706                                 | \n",
       "| 4f255be8-30ac-11e1-8c61-c365ccf404c5 |  4826                                |  674                                 | \n",
       "| cc64bb44-3336-11e1-a274-61fcdeecc5f5 |  7503                                |  784                                 | \n",
       "| 81c54a46-326d-11e1-825f-dabc29fd7071 |  3727                                | 1125                                 | \n",
       "| a2a3858a-326c-11e1-825f-dabc29fd7071 |  2519                                |  729                                 | \n",
       "| 0e1df3bc-326e-11e1-825f-dabc29fd7071 |  2398                                |  436                                 | \n",
       "| c2b2e87c-3170-11e1-b034-d347de95dcfe |  5709                                |  483                                 | \n",
       "| 92f648ce-31b9-11e1-a274-61fcdeecc5f5 |  2756                                |  806                                 | \n",
       "| 0f507be2-30de-11e1-a274-61fcdeecc5f5 |  2683                                |  610                                 | \n",
       "| ef241d24-3218-11e1-b692-796029298414 |  4867                                |  730                                 | \n",
       "| c2e30376-3162-11e1-b034-d347de95dcfe |  4440                                |  806                                 | \n",
       "| ⋮ | ⋮ | ⋮ | \n",
       "| feef5630be9ccf49e59221c41a648e74     |  2110                                |  596                                 | \n",
       "| fef0f232a9bd94bdb96bac48c7705503     |  7243                                | 1044                                 | \n",
       "| fefb8280-737f-11e5-9cbb-790369643cf9 |  6350                                | 1138                                 | \n",
       "| ff2ba942bf56c2286e12cdef29534148     |  2603                                |  948                                 | \n",
       "| ff33487506aa202df45122962b92410b     |  3175                                |  588                                 | \n",
       "| ff49e018-7ded-11e7-83c7-5bd5460f0d7e |  8452                                |  769                                 | \n",
       "| ff4d23354d895dc7145e5ed20ca9bbd3     |  5994                                |  666                                 | \n",
       "| ff52133a9da81efa2c57c71a1ca98a71     |  2978                                | 1061                                 | \n",
       "| ff529798b35e37fdd720e6d072bc475f     |  5898                                | 1408                                 | \n",
       "| ff53ce53d8fa00468f1342fdaf671a50     |  5914                                |  709                                 | \n",
       "| ff5667fa1158c13305738a0f91173bb5     |  5239                                |  301                                 | \n",
       "| ff579e40-9543-11e5-b5e4-279b4501e8a6 |  6119                                |  836                                 | \n",
       "| ff5bb01f2a8b6b6a9726156dfe87a392     |  5441                                |  261                                 | \n",
       "| ff5c54f50c42761af58e8453def78b3a     |   932                                |  932                                 | \n",
       "| ff60aedda957d6300124adc86da93fc4     |  4768                                |  728                                 | \n",
       "| ff678d695f6fa6f68e48114cc5869a13     |  2779                                |  183                                 | \n",
       "| ff78a806006eb996ab4a00874019ccad     | 11623                                |  665                                 | \n",
       "| ff80e3d3696b5c761715f00d61640d2e     |  4052                                |  798                                 | \n",
       "| ff89d1d83fccc49e7a20df288f6a200a     |  2048                                | 1087                                 | \n",
       "| ff8d054c119c7b7a3227eff535701c01     |   990                                |  780                                 | \n",
       "| ff969bd4-d4f0-11e1-b2d5-2419d227d8b0 |  5539                                |  392                                 | \n",
       "| ff99ffb6f405d0740f596c09febcf2f8     |  2140                                |  620                                 | \n",
       "| ff9b5f2a34e97bdfc931def1284c665c     |  5359                                | 1416                                 | \n",
       "| ffb2a40f294e55865d5bc616f0cd28f9     |  5999                                |  660                                 | \n",
       "| ffbd2e4d86320d07a6146bd0a1cd78a3     |  6785                                | 1014                                 | \n",
       "| ffd6187f96de91f819a5ebac49aebff2     |  3462                                |  679                                 | \n",
       "| ffd6b3d07764da97d7a3b287035ff5f2     |  1889                                |  879                                 | \n",
       "| ffe838de48dfbbbe83fb137643e73fd2     |  5870                                |  540                                 | \n",
       "| fff52dc5482fd1917a3dcce63ecc8a33     |    18                                |   18                                 | \n",
       "| fffbc452-b422-11e2-9a98-4be1688d7d84 |  3710                                |  769                                 | \n",
       "\n",
       "\n"
      ],
      "text/plain": [
       "       doc_id                               doc_len par_len\n",
       "1      b2e89334-33f9-11e1-825f-dabc29fd7071  4522    658   \n",
       "2      749ec5b2-32f5-11e1-825f-dabc29fd7071  3883    632   \n",
       "3      69654742-33d7-11e1-825f-dabc29fd7071  9560    999   \n",
       "4      d5966ad2-33f9-11e1-825f-dabc29fd7071  4886    862   \n",
       "5      f2c10c06-2c0c-11e1-9952-55d90a4e2d6d  7243    651   \n",
       "6      4db820a0-3251-11e1-8c61-c365ccf404c5  8929    661   \n",
       "7      2ee2b1ca-33d9-11e1-a274-61fcdeecc5f5  7359    756   \n",
       "8      a9552634-2c06-11e1-9952-55d90a4e2d6d  9504    764   \n",
       "9      7cecbc12-33de-11e1-a274-61fcdeecc5f5  8638   1052   \n",
       "10     153127ee-341e-11e1-825f-dabc29fd7071  5053    740   \n",
       "11     8d0035ac-340b-11e1-a274-61fcdeecc5f5  1057    588   \n",
       "12     a0fb5cda-340b-11e1-825f-dabc29fd7071  1431    302   \n",
       "13     69f1a5e2-342d-11e1-825f-dabc29fd7071  5093    998   \n",
       "14     6033cbfe-21e8-11e1-a34e-71d4bf6b8d0a 32552    907   \n",
       "15     dbe17e88-331b-11e1-825f-dabc29fd7071  4062    779   \n",
       "16     92c0a656-3448-11e1-825f-dabc29fd7071  1668    657   \n",
       "17     2ebf4e80-346d-11e1-88f9-9084fc48c348  3748    843   \n",
       "18     95195e84-32fe-11e1-825f-dabc29fd7071 10572   1096   \n",
       "19     b0172374-349d-11e1-88f9-9084fc48c348  5344    543   \n",
       "20     fdce25a8-30c0-11e1-b034-d347de95dcfe  6791    706   \n",
       "21     4f255be8-30ac-11e1-8c61-c365ccf404c5  4826    674   \n",
       "22     cc64bb44-3336-11e1-a274-61fcdeecc5f5  7503    784   \n",
       "23     81c54a46-326d-11e1-825f-dabc29fd7071  3727   1125   \n",
       "24     a2a3858a-326c-11e1-825f-dabc29fd7071  2519    729   \n",
       "25     0e1df3bc-326e-11e1-825f-dabc29fd7071  2398    436   \n",
       "26     c2b2e87c-3170-11e1-b034-d347de95dcfe  5709    483   \n",
       "27     92f648ce-31b9-11e1-a274-61fcdeecc5f5  2756    806   \n",
       "28     0f507be2-30de-11e1-a274-61fcdeecc5f5  2683    610   \n",
       "29     ef241d24-3218-11e1-b692-796029298414  4867    730   \n",
       "30     c2e30376-3162-11e1-b034-d347de95dcfe  4440    806   \n",
       "⋮      ⋮                                    ⋮       ⋮      \n",
       "584521 feef5630be9ccf49e59221c41a648e74      2110    596   \n",
       "584522 fef0f232a9bd94bdb96bac48c7705503      7243   1044   \n",
       "584523 fefb8280-737f-11e5-9cbb-790369643cf9  6350   1138   \n",
       "584524 ff2ba942bf56c2286e12cdef29534148      2603    948   \n",
       "584525 ff33487506aa202df45122962b92410b      3175    588   \n",
       "584526 ff49e018-7ded-11e7-83c7-5bd5460f0d7e  8452    769   \n",
       "584527 ff4d23354d895dc7145e5ed20ca9bbd3      5994    666   \n",
       "584528 ff52133a9da81efa2c57c71a1ca98a71      2978   1061   \n",
       "584529 ff529798b35e37fdd720e6d072bc475f      5898   1408   \n",
       "584530 ff53ce53d8fa00468f1342fdaf671a50      5914    709   \n",
       "584531 ff5667fa1158c13305738a0f91173bb5      5239    301   \n",
       "584532 ff579e40-9543-11e5-b5e4-279b4501e8a6  6119    836   \n",
       "584533 ff5bb01f2a8b6b6a9726156dfe87a392      5441    261   \n",
       "584534 ff5c54f50c42761af58e8453def78b3a       932    932   \n",
       "584535 ff60aedda957d6300124adc86da93fc4      4768    728   \n",
       "584536 ff678d695f6fa6f68e48114cc5869a13      2779    183   \n",
       "584537 ff78a806006eb996ab4a00874019ccad     11623    665   \n",
       "584538 ff80e3d3696b5c761715f00d61640d2e      4052    798   \n",
       "584539 ff89d1d83fccc49e7a20df288f6a200a      2048   1087   \n",
       "584540 ff8d054c119c7b7a3227eff535701c01       990    780   \n",
       "584541 ff969bd4-d4f0-11e1-b2d5-2419d227d8b0  5539    392   \n",
       "584542 ff99ffb6f405d0740f596c09febcf2f8      2140    620   \n",
       "584543 ff9b5f2a34e97bdfc931def1284c665c      5359   1416   \n",
       "584544 ffb2a40f294e55865d5bc616f0cd28f9      5999    660   \n",
       "584545 ffbd2e4d86320d07a6146bd0a1cd78a3      6785   1014   \n",
       "584546 ffd6187f96de91f819a5ebac49aebff2      3462    679   \n",
       "584547 ffd6b3d07764da97d7a3b287035ff5f2      1889    879   \n",
       "584548 ffe838de48dfbbbe83fb137643e73fd2      5870    540   \n",
       "584549 fff52dc5482fd1917a3dcce63ecc8a33        18     18   \n",
       "584550 fffbc452-b422-11e2-9a98-4be1688d7d84  3710    769   "
      ]
     },
     "metadata": {},
     "output_type": "display_data"
    }
   ],
   "source": [
    "doc_length"
   ]
  },
  {
   "cell_type": "markdown",
   "metadata": {},
   "source": [
    "The results about the distribution of the size of text between all paragraphs and the three first paragraphs are shown below."
   ]
  },
  {
   "cell_type": "code",
   "execution_count": 4,
   "metadata": {},
   "outputs": [
    {
     "name": "stderr",
     "output_type": "stream",
     "text": [
      "`geom_smooth()` using method = 'gam' and formula 'y ~ s(x, bs = \"cs\")'\n"
     ]
    },
    {
     "data": {},
     "metadata": {},
     "output_type": "display_data"
    },
    {
     "data": {
      "image/png": "[encoded data removed]",
      "text/plain": [
       "plot without title"
      ]
     },
     "metadata": {},
     "output_type": "display_data"
    }
   ],
   "source": [
    "plot_data(doc_length)"
   ]
  },
  {
   "cell_type": "markdown",
   "metadata": {},
   "source": [
    "The X-axis shows the list of documents and the Y-axis shows the length in a number of characters of each document. Red line represents the number of characters for the full content of the text (all paragraphs) and the blue line represents the number of characters of only the first three paragraphs of each document. Is using a smooth line for a better understanding of the graph."
   ]
  },
  {
   "cell_type": "markdown",
   "metadata": {
    "collapsed": true
   },
   "source": [
    "## Features distribuition analysis"
   ]
  },
  {
   "cell_type": "markdown",
   "metadata": {},
   "source": [
    "### Description"
   ]
  },
  {
   "cell_type": "markdown",
   "metadata": {},
   "source": [
    "Discretization of features consist in reduce the number of information/values obtained in each one.\n",
    "\n",
    "Features included:\n",
    "<ul>\n",
    "<li>Keywords: list of sentences included exactly in the text. Each sentence have around 3 and 6 terms, and have a weight (double numerical value between 1.0 and 50.0). Discretization: sentence with 2 words or less, and weight more than 5.0.</li>\n",
    "<li>NamedEntities: list of named entities. Discretization: the list of named entities included in top 20 analysis.</li>\n",
    "<li>SentimentAnalysis: polarity value, posible values are postive, negative or neutral. Discretization: no.</li>\n",
    "<li>ReadingComplexity: Flesch–Kincaid score value (double between 0.0 and 100.0). Low score is more harder to read. Discretization: categorization of scores in (1).</li>\n",
    "<li>EmotionCategories: list emotions with a weight double value between 0.0 and 1.0. Emotions are: wordnet affect emotion categories(2). Discretization: emotion with more than 0.1 weight.</li></ul>\n",
    "\n",
    "(1) Flesch–Kincaid levels:\n",
    "http://pages.stern.nyu.edu/~wstarbuc/Writing/Flesch.htm\n",
    "https://en.wikipedia.org/wiki/Flesch%E2%80%93Kincaid_readability_tests#Flesch_reading_ease\n",
    "<ul><li>90 to 100: 5th_grade</li>\n",
    "<li>80 to 90: 6th_grade</li>\n",
    "<li>70 to 80: 7th_grade</li>\n",
    "<li>60 to 70: 8th_and_9th_grade</li>\n",
    "<li>50 to 60: 10th_to_12th_grade (high school)</li>\n",
    "<li>30 to 50: college</li>\n",
    "<li>0 to 30: college_graduate</li></ul>\n",
    "\n",
    "(2) wordnet affect emotion categories: http://www.gsi.dit.upm.es/ontologies/wnaffect/fulltree.html\n",
    "\n",
    "Tools for process features:\n",
    "<ul>\n",
    "<li>Keywords: RAKE, weight is co-ocurrence degree of word/frequency of word</li>\n",
    "<li>NamedEntities: army-ant, list of categories+(3).</li>\n",
    "<li>SentimentAnalysis:.</li>\n",
    "<li>ReadingComplexity: textstat, Flesch–Kincaid ease.</li>\n",
    "<li>EmotionCategories:.</li></ul>\n"
   ]
  },
  {
   "cell_type": "code",
   "execution_count": 6,
   "metadata": {},
   "outputs": [],
   "source": [
    "features <- read_features_file(\"~/Downloads/features-basic6-trec-notext-p1.tsv.gz\")"
   ]
  },
  {
   "cell_type": "markdown",
   "metadata": {},
   "source": [
    "### Sentiment analysis"
   ]
  },
  {
   "cell_type": "markdown",
   "metadata": {},
   "source": [
    "Next table shows the distribution of polarity categories (negative, neutral, positive) along all documents processed:"
   ]
  },
  {
   "cell_type": "code",
   "execution_count": 5,
   "metadata": {},
   "outputs": [
    {
     "data": {},
     "metadata": {},
     "output_type": "display_data"
    },
    {
     "data": {
      "image/png": "[encoded data removed]",
      "text/plain": [
       "plot without title"
      ]
     },
     "metadata": {},
     "output_type": "display_data"
    }
   ],
   "source": [
    "plot_sentiment(features)"
   ]
  },
  {
   "cell_type": "markdown",
   "metadata": {},
   "source": [
    "Results indicate a strong presence of \"neutral\" sentiment because normally news documents don't express any sentiment."
   ]
  },
  {
   "cell_type": "markdown",
   "metadata": {},
   "source": [
    "### Reading complexity analysis"
   ]
  },
  {
   "cell_type": "markdown",
   "metadata": {},
   "source": [
    "Next table shows the distribution of Flesch-Kincaid level along all documents processed:"
   ]
  },
  {
   "cell_type": "code",
   "execution_count": 16,
   "metadata": {},
   "outputs": [
    {
     "data": {},
     "metadata": {},
     "output_type": "display_data"
    },
    {
     "data": {
      "image/png": "[encoded data removed]",
      "text/plain": [
       "plot without title"
      ]
     },
     "metadata": {},
     "output_type": "display_data"
    }
   ],
   "source": [
    "plot_readability(features)"
   ]
  },
  {
   "cell_type": "markdown",
   "metadata": {},
   "source": [
    "Most documents are detected as grades 8th to 12th. Therefore, have a balanced reading complexity."
   ]
  },
  {
   "cell_type": "markdown",
   "metadata": {},
   "source": [
    "### Named entities analysis"
   ]
  },
  {
   "cell_type": "markdown",
   "metadata": {},
   "source": [
    "Next table shows the top 20 entities most used along all documents processed:"
   ]
  },
  {
   "cell_type": "code",
   "execution_count": 7,
   "metadata": {},
   "outputs": [
    {
     "data": {},
     "metadata": {},
     "output_type": "display_data"
    },
    {
     "data": {
      "image/png": "[encoded data removed]",
      "text/plain": [
       "plot without title"
      ]
     },
     "metadata": {},
     "output_type": "display_data"
    }
   ],
   "source": [
    "plot_named_entities(features)"
   ]
  },
  {
   "cell_type": "markdown",
   "metadata": {},
   "source": [
    "Many entities are related to Politics, States and Cities, because are the most commons subjects of the newspaper. "
   ]
  },
  {
   "cell_type": "markdown",
   "metadata": {},
   "source": [
    "### Emotion categories analysis"
   ]
  },
  {
   "cell_type": "markdown",
   "metadata": {},
   "source": [
    "Next table shows how many ocurrences of each emotion category are there in documents:"
   ]
  },
  {
   "cell_type": "code",
   "execution_count": 9,
   "metadata": {},
   "outputs": [
    {
     "data": {},
     "metadata": {},
     "output_type": "display_data"
    },
    {
     "data": {
      "image/png": "[encoded data removed]",
      "text/plain": [
       "plot without title"
      ]
     },
     "metadata": {},
     "output_type": "display_data"
    }
   ],
   "source": [
    "plot_emotions_ocurrences(features)"
   ]
  },
  {
   "cell_type": "code",
   "execution_count": null,
   "metadata": {},
   "outputs": [],
   "source": []
  }
 ],
 "metadata": {
  "kernelspec": {
   "display_name": "R",
   "language": "R",
   "name": "ir"
  },
  "language_info": {
   "codemirror_mode": "r",
   "file_extension": ".r",
   "mimetype": "text/x-r-source",
   "name": "R",
   "pygments_lexer": "r",
   "version": "3.4.4"
  }
 },
 "nbformat": 4,
 "nbformat_minor": 2
}
